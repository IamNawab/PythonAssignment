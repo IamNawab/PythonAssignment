{
 "cells": [
  {
   "cell_type": "markdown",
   "id": "fc136da9-5736-4f95-8bfd-5fb30a26fc47",
   "metadata": {},
   "source": [
    "# Q-1 Display Grading"
   ]
  },
  {
   "cell_type": "code",
   "execution_count": 5,
   "id": "8effe577-0114-4f4d-8a94-ff53ed49bd16",
   "metadata": {},
   "outputs": [
    {
     "name": "stdin",
     "output_type": "stream",
     "text": [
      "Enter the marks :  30\n"
     ]
    },
    {
     "name": "stdout",
     "output_type": "stream",
     "text": [
      "D\n"
     ]
    }
   ],
   "source": [
    "marks = int(input(\"Enter the marks : \"))\n",
    "if marks > 90:\n",
    "    print(\"A\")\n",
    "elif marks > 80:\n",
    "    print(\"B\")\n",
    "elif marks >= 60 :\n",
    "    print(\"C\")\n",
    "else:\n",
    "    print(\"D\")"
   ]
  },
  {
   "cell_type": "markdown",
   "id": "0d88f2a6-a208-4bd8-8049-9140a6e6d7ca",
   "metadata": {},
   "source": [
    "# Q-2 Road Tax of bike"
   ]
  },
  {
   "cell_type": "code",
   "execution_count": 11,
   "id": "50640b17-813f-4c2b-b530-6cfeec90bf4b",
   "metadata": {},
   "outputs": [
    {
     "name": "stdin",
     "output_type": "stream",
     "text": [
      "Enter the cost price of bike :  120000\n"
     ]
    },
    {
     "name": "stdout",
     "output_type": "stream",
     "text": [
      "Tax to be paid :18000.0\n"
     ]
    }
   ],
   "source": [
    "cost_price = int(input(\"Enter the cost price of bike : \"))\n",
    "if cost_price > 100000:\n",
    "    tax_price = 0.15*cost_price\n",
    "    print(\"Tax to be paid :{}\".format(tax_price))\n",
    "elif cost_price > 50000:\n",
    "    tax_price = 0.1*cost_price\n",
    "    print(\"Tax to be paid : {}\".format(tax_price))\n",
    "else :\n",
    "    tax_price = 0.05*cost_price\n",
    "    print(\"Tax to be paid : {}\".format(tax_price))"
   ]
  },
  {
   "cell_type": "markdown",
   "id": "85e74085-cbac-4081-8a54-bbdf50bdd67e",
   "metadata": {},
   "source": [
    "# Q-3 Monuments of the City"
   ]
  },
  {
   "cell_type": "code",
   "execution_count": 14,
   "id": "e7ffb5ef-803e-4c7e-824b-424fec550ef7",
   "metadata": {},
   "outputs": [
    {
     "name": "stdin",
     "output_type": "stream",
     "text": [
      "Enter the city name :  Delhi\n"
     ]
    },
    {
     "name": "stdout",
     "output_type": "stream",
     "text": [
      "Red Fort\n"
     ]
    }
   ],
   "source": [
    "city_name = input(\"Enter the city name : \")\n",
    "if city_name == \"Delhi\":\n",
    "    print(\"Red Fort\")\n",
    "if city_name == \"Agra\":\n",
    "    print(\"Taj Mahal\")\n",
    "if city_name == \"Jaipur\":\n",
    "    print(\"Jal Mahal\")"
   ]
  },
  {
   "cell_type": "markdown",
   "id": "3dee5a32-9577-4321-bd63-7ce707d5ae0c",
   "metadata": {},
   "source": [
    "# Q-4 check how many times a given number can be divided by 3 before it is less than or equal to 10"
   ]
  },
  {
   "cell_type": "code",
   "execution_count": 4,
   "id": "a7d116b8-ae7a-4ac7-bae4-7be74814e602",
   "metadata": {},
   "outputs": [
    {
     "name": "stdin",
     "output_type": "stream",
     "text": [
      "Enter a number:  20\n"
     ]
    },
    {
     "name": "stdout",
     "output_type": "stream",
     "text": [
      "1\n"
     ]
    }
   ],
   "source": [
    "num = int(input(\"Enter a number: \"))\n",
    "count = 0\n",
    "while num > 10:\n",
    "    num = num / 3\n",
    "    count += 1\n",
    "print(count)"
   ]
  },
  {
   "cell_type": "markdown",
   "id": "807c28fd-cc73-47b0-b4e5-0ff8ba5a14f0",
   "metadata": {},
   "source": [
    "# Q-5 Why and when to use while loop in Python give a detailed description with example\n",
    "\n",
    "## Ans- The while loop in Python is used when we want to repeatedly execute a block of code as long as a certain condition remains true. It allows us to create loops that continue until the specified condition is no longer satisfied.\n",
    "\n",
    "## while loops are useful when we don't know in advance how many times the loop needs to be executed. The loop will continue until the condition is no longer true, allowing for dynamic and flexible iteration."
   ]
  },
  {
   "cell_type": "code",
   "execution_count": 6,
   "id": "96225e19-6b49-4f3d-952f-8166414c946a",
   "metadata": {},
   "outputs": [
    {
     "name": "stdout",
     "output_type": "stream",
     "text": [
      "10\n",
      "9\n",
      "8\n",
      "7\n",
      "6\n",
      "5\n",
      "4\n",
      "3\n",
      "2\n",
      "1\n"
     ]
    }
   ],
   "source": [
    "# Example\n",
    "n = 10\n",
    "while n > 0:\n",
    "    print(n)\n",
    "    n -= 1\n"
   ]
  },
  {
   "cell_type": "markdown",
   "id": "160d1513-8da5-4524-a020-77ac2a0c1b1f",
   "metadata": {},
   "source": [
    "# Q-6 using nested while loop, printing 3 different pattern"
   ]
  },
  {
   "cell_type": "markdown",
   "id": "d1e33971-7006-42ee-bf04-9b0407aea377",
   "metadata": {},
   "source": [
    "* 1- Tringle pattern "
   ]
  },
  {
   "cell_type": "code",
   "execution_count": 14,
   "id": "ea696da4-c91a-41b3-815f-b09166522e23",
   "metadata": {},
   "outputs": [
    {
     "name": "stdout",
     "output_type": "stream",
     "text": [
      "* \n",
      "* * \n",
      "* * * \n",
      "* * * * \n",
      "* * * * * \n",
      "* * * * * * \n",
      "* * * * * * * \n",
      "* * * * * * * * \n",
      "* * * * * * * * * \n",
      "* * * * * * * * * * \n"
     ]
    }
   ],
   "source": [
    "row = 1\n",
    "while row <= 10:\n",
    "    col = 1\n",
    "    while col <= row:\n",
    "        print(\"*\",end=\" \")\n",
    "        col += 1\n",
    "    print()\n",
    "    row += 1"
   ]
  },
  {
   "cell_type": "markdown",
   "id": "82a35d70-3a58-4e4a-a40e-b538ea997c97",
   "metadata": {},
   "source": [
    "* 2- Square Pattern"
   ]
  },
  {
   "cell_type": "code",
   "execution_count": 13,
   "id": "b9904137-1f99-4e24-b51c-ef1d3dfd44fa",
   "metadata": {},
   "outputs": [
    {
     "name": "stdout",
     "output_type": "stream",
     "text": [
      "* * * * * \n",
      "* * * * * \n",
      "* * * * * \n",
      "* * * * * \n",
      "* * * * * \n"
     ]
    }
   ],
   "source": [
    "row = 1\n",
    "while row <= 5:\n",
    "    col = 1\n",
    "    while col <= 5:\n",
    "        print(\"*\",end=\" \")\n",
    "        col += 1\n",
    "    print()\n",
    "    row += 1"
   ]
  },
  {
   "cell_type": "markdown",
   "id": "e1465591-c781-4c74-b56d-76e99b237873",
   "metadata": {},
   "source": [
    "* 3- Pyramid Pattern"
   ]
  },
  {
   "cell_type": "code",
   "execution_count": null,
   "id": "77da2201-475c-4164-bade-b6d6562e3d0a",
   "metadata": {},
   "outputs": [],
   "source": [
    "row = 1\n",
    "while row <= 10:\n",
    "    space = 10 - row\n",
    "    while space > 0:\n",
    "        print(\" \",end=\" \")\n",
    "        space -= 1\n",
    "        \n",
    "    star = 1\n",
    "    while star <= (2 * row - 1):\n",
    "        print(\"*\",end=\" \")\n",
    "        star += 1\n",
    "        \n",
    "    print()\n",
    "    row += 1\n",
    "        "
   ]
  },
  {
   "cell_type": "markdown",
   "id": "3d74609b-7e8f-4e93-b0fc-3f702af30496",
   "metadata": {},
   "source": [
    "# Q-7 reverse a while loop to display numbers from 10 to 1"
   ]
  },
  {
   "cell_type": "code",
   "execution_count": 27,
   "id": "67300505-36ee-4824-8f9b-2c03dc9bc880",
   "metadata": {},
   "outputs": [
    {
     "name": "stdout",
     "output_type": "stream",
     "text": [
      "10\n",
      "9\n",
      "8\n",
      "7\n",
      "6\n",
      "5\n",
      "4\n",
      "3\n",
      "2\n",
      "1\n"
     ]
    }
   ],
   "source": [
    "num = 10\n",
    "while num >=1 :\n",
    "    print(num)\n",
    "    num -= 1"
   ]
  },
  {
   "cell_type": "markdown",
   "id": "65ad6920-2c2a-4fa6-9a0c-bbf7c9237867",
   "metadata": {},
   "source": [
    "# Q-8 reverse a while loop to display numbers from 10 to 1"
   ]
  },
  {
   "cell_type": "code",
   "execution_count": 28,
   "id": "dc301738-23f5-4018-9309-5c184fa8ec34",
   "metadata": {},
   "outputs": [
    {
     "name": "stdout",
     "output_type": "stream",
     "text": [
      "10\n",
      "9\n",
      "8\n",
      "7\n",
      "6\n",
      "5\n",
      "4\n",
      "3\n",
      "2\n",
      "1\n"
     ]
    }
   ],
   "source": [
    "num = 10\n",
    "while num >=1 :\n",
    "    print(num)\n",
    "    num -= 1"
   ]
  },
  {
   "cell_type": "code",
   "execution_count": null,
   "id": "644950f5-6d80-4700-964a-ce5393ab7f2f",
   "metadata": {},
   "outputs": [],
   "source": []
  }
 ],
 "metadata": {
  "kernelspec": {
   "display_name": "Python 3 (ipykernel)",
   "language": "python",
   "name": "python3"
  },
  "language_info": {
   "codemirror_mode": {
    "name": "ipython",
    "version": 3
   },
   "file_extension": ".py",
   "mimetype": "text/x-python",
   "name": "python",
   "nbconvert_exporter": "python",
   "pygments_lexer": "ipython3",
   "version": "3.10.8"
  }
 },
 "nbformat": 4,
 "nbformat_minor": 5
}
