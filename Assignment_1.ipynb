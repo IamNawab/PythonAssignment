{
 "cells": [
  {
   "cell_type": "markdown",
   "id": "379f4c5d-ec4b-472f-956a-ab722c25c7d0",
   "metadata": {},
   "source": [
    "# Assignment-1 (29th Jan)"
   ]
  },
  {
   "cell_type": "markdown",
   "id": "7c732351-434e-4b29-8733-3bb9e009aadd",
   "metadata": {},
   "source": [
    "#### Q-1    Who developed python programming language?\n",
    "#### Ans-   Python programming language was developed by Guido Van Rossum"
   ]
  },
  {
   "cell_type": "markdown",
   "id": "7697831c-d2c4-4efa-bf88-561eee7fae42",
   "metadata": {},
   "source": [
    "#### Q-2 Which type of programming does python support ?\n",
    "#### Ans- Python is interpreted programming language that support object oriented, structured and functional programming."
   ]
  },
  {
   "cell_type": "markdown",
   "id": "53b58e31-4733-4a4f-a890-0dced0adb5c4",
   "metadata": {},
   "source": [
    "#### Q-3 Is python case sensitive when dealing with identifiers?\n",
    "#### Ans- Yes, Python is case-sensitive when it comes to identifiers. Identifiers refer to names given to variables, functions, classes, modules, or any other objects in Python.\n",
    "\n",
    "#### Python considers uppercase and lowercase letters as distinct characters, so \"myVariable\" and \"MyVariable\" would be treated as two separate identifiers. It means that if you define a variable with a particular name in lowercase, you cannot refer to it using the same name in uppercase or vice versa."
   ]
  },
  {
   "cell_type": "markdown",
   "id": "df5fdb9e-3f71-4595-b318-17c3ed21f8a2",
   "metadata": {},
   "source": [
    "#### Q-4 What is the correct extension of the python file?\n",
    "#### Ans- .py is the correct extension of the python file."
   ]
  },
  {
   "cell_type": "markdown",
   "id": "6e55cf31-8ccb-4186-ad0d-01db70c3f18e",
   "metadata": {},
   "source": [
    "#### Q-5 Is python code compiled or interpreted?\n",
    "#### Ans- Python is an interpreted language, which means the source code of a Python program is converted into bytecode that is then executed by the Python virtual machine."
   ]
  },
  {
   "cell_type": "markdown",
   "id": "6edb54c6-7f82-49e4-9571-1d664f50a7e6",
   "metadata": {},
   "source": [
    "#### Q-6 Name a few blocks of code used to define Python Language?\n",
    "### 1- Function Definition\n"
   ]
  },
  {
   "cell_type": "code",
   "execution_count": 1,
   "id": "ed43ad4c-eaf5-44a2-9d40-85b822c0a4fb",
   "metadata": {},
   "outputs": [],
   "source": [
    "def my_function(argument1, argument2):\n",
    "    # Code block starts here\n",
    "    statement1\n",
    "    statement2\n",
    "    # Code block ends here"
   ]
  },
  {
   "cell_type": "markdown",
   "id": "307bfa9c-429f-48a0-876c-99f82281e8b7",
   "metadata": {},
   "source": [
    "### 2- Conditional Statements (if, elif, else):"
   ]
  },
  {
   "cell_type": "code",
   "execution_count": 2,
   "id": "08443bab-b717-4fb8-9c0b-d4acb47004bf",
   "metadata": {},
   "outputs": [
    {
     "ename": "NameError",
     "evalue": "name 'condition1' is not defined",
     "output_type": "error",
     "traceback": [
      "\u001b[0;31m---------------------------------------------------------------------------\u001b[0m",
      "\u001b[0;31mNameError\u001b[0m                                 Traceback (most recent call last)",
      "Cell \u001b[0;32mIn[2], line 1\u001b[0m\n\u001b[0;32m----> 1\u001b[0m \u001b[38;5;28;01mif\u001b[39;00m \u001b[43mcondition1\u001b[49m:\n\u001b[1;32m      2\u001b[0m     \u001b[38;5;66;03m# Code block for condition1\u001b[39;00m\n\u001b[1;32m      3\u001b[0m     statement1\n\u001b[1;32m      4\u001b[0m     statement2\n",
      "\u001b[0;31mNameError\u001b[0m: name 'condition1' is not defined"
     ]
    }
   ],
   "source": [
    "if condition1:\n",
    "    # Code block for condition1\n",
    "    statement1\n",
    "    statement2\n",
    "elif condition2:\n",
    "    # Code block for condition2\n",
    "    statement3\n",
    "    statement4\n",
    "else:\n",
    "    # Code block if no conditions are met\n",
    "    statement5\n",
    "    statement6"
   ]
  },
  {
   "cell_type": "markdown",
   "id": "2b09583c-b0a0-486f-895d-728a0cb30331",
   "metadata": {},
   "source": [
    "### 3-Looping Statements (for loop):"
   ]
  },
  {
   "cell_type": "code",
   "execution_count": 3,
   "id": "087bf652-94f7-444a-949e-823bae862979",
   "metadata": {},
   "outputs": [
    {
     "ename": "NameError",
     "evalue": "name 'iterable' is not defined",
     "output_type": "error",
     "traceback": [
      "\u001b[0;31m---------------------------------------------------------------------------\u001b[0m",
      "\u001b[0;31mNameError\u001b[0m                                 Traceback (most recent call last)",
      "Cell \u001b[0;32mIn[3], line 1\u001b[0m\n\u001b[0;32m----> 1\u001b[0m \u001b[38;5;28;01mfor\u001b[39;00m item \u001b[38;5;129;01min\u001b[39;00m \u001b[43miterable\u001b[49m:\n\u001b[1;32m      2\u001b[0m     \u001b[38;5;66;03m# Code block executed for each item\u001b[39;00m\n\u001b[1;32m      3\u001b[0m     statement1\n\u001b[1;32m      4\u001b[0m     statement2\n",
      "\u001b[0;31mNameError\u001b[0m: name 'iterable' is not defined"
     ]
    }
   ],
   "source": [
    "for item in iterable:\n",
    "    # Code block executed for each item\n",
    "    statement1\n",
    "    statement2"
   ]
  },
  {
   "cell_type": "markdown",
   "id": "e2a58e9f-3b7f-45d0-aeb0-60b7e53619ef",
   "metadata": {},
   "source": [
    "### 4-Looping Statements (while loop):"
   ]
  },
  {
   "cell_type": "code",
   "execution_count": null,
   "id": "0516ba18-2dd0-4823-b942-9caa81443a65",
   "metadata": {},
   "outputs": [],
   "source": [
    "while condition:\n",
    "    # Code block executed as long as condition is True\n",
    "    statement1\n",
    "    statement2"
   ]
  },
  {
   "cell_type": "markdown",
   "id": "78ac9c76-b275-471a-8690-467859ad9fdc",
   "metadata": {},
   "source": [
    "#### Q-7 State a character used to give single-line comments in python?  \n"
   ]
  },
  {
   "cell_type": "markdown",
   "id": "28170dcd-0d17-46ac-a5b3-016b53b332c1",
   "metadata": {},
   "source": [
    "#### Ans- In Python, the hash character (#) is used to denote a single-line comment."
   ]
  },
  {
   "cell_type": "code",
   "execution_count": 4,
   "id": "1785eca9-e6db-40db-9e59-5f3a9858777f",
   "metadata": {},
   "outputs": [
    {
     "name": "stdout",
     "output_type": "stream",
     "text": [
      "Hello, World!\n"
     ]
    }
   ],
   "source": [
    "# This is a single-line comment in Python\n",
    "print(\"Hello, World!\")  # This is another comment"
   ]
  },
  {
   "cell_type": "markdown",
   "id": "fcc5c820-2b9b-4649-9517-c1dc3722e956",
   "metadata": {},
   "source": [
    "#### Q-8 Mention functions which can help us to find the version of python that we are currently working on?  "
   ]
  },
  {
   "cell_type": "markdown",
   "id": "442170fd-bd9e-4ce1-ba72-e43d40b2e1c9",
   "metadata": {},
   "source": [
    "#### Ans- The 'sys' module provides information about the Python interpreter. The 'sys.version' attribute returns a string representing the version number of Python."
   ]
  },
  {
   "cell_type": "code",
   "execution_count": 1,
   "id": "5e1d3e6f-8666-4558-b25c-60442d4a177c",
   "metadata": {},
   "outputs": [
    {
     "name": "stdout",
     "output_type": "stream",
     "text": [
      "3.10.8 | packaged by conda-forge | (main, Nov 22 2022, 08:26:04) [GCC 10.4.0]\n"
     ]
    }
   ],
   "source": [
    "import sys\n",
    "print(sys.version)"
   ]
  },
  {
   "cell_type": "markdown",
   "id": "eeacf573-2aa9-4a2a-9f65-c1949a832bfd",
   "metadata": {},
   "source": [
    "#### Q-9 Python supports the creation of anonymous functions at runtime, using a construct called __________\n",
    "#### Ans- Lamda Functions"
   ]
  },
  {
   "cell_type": "markdown",
   "id": "95be5188-d286-4a72-8ae8-8f8c7ffdff45",
   "metadata": {},
   "source": [
    "#### Q-10 What does pip stand for python? \n",
    "#### Ans- pip stands for pip installs packages"
   ]
  },
  {
   "cell_type": "markdown",
   "id": "328324c8-d15f-4f52-b020-39ba9f419b68",
   "metadata": {},
   "source": [
    "#### Q-11 Mention a few built-in functions in Python? \n"
   ]
  },
  {
   "cell_type": "markdown",
   "id": "02e66772-794b-4c20-950f-568fc8beaf9f",
   "metadata": {},
   "source": [
    "#### Ans-\n",
    "#### print(): Prints the specified value or values to the standard output.\n",
    "\n",
    "#### len(): Returns the length (number of items) of an object, such as a string, list, or tuple.\n",
    "\n",
    "#### input(): Reads a line of input from the user via the console.\n",
    "\n",
    "#### type(): Returns the type of an object.\n",
    "\n",
    "#### int(), float(), str(), bool(): Convert values to integer, float, string, or boolean types, respectively.\n",
    "\n",
    "#### range(): Generates a sequence of numbers."
   ]
  },
  {
   "cell_type": "markdown",
   "id": "8fb4c1de-f331-45d2-ab2a-020fbb22599e",
   "metadata": {},
   "source": [
    "#### Q-12 What is the maximum possible length of an identifier in Python?"
   ]
  },
  {
   "cell_type": "markdown",
   "id": "fb28a096-1db7-49a3-8eb8-0705095277e5",
   "metadata": {},
   "source": [
    "#### Ans- According to the Python Language Reference, an identifier is a sequence of letters, digits, and underscores, with the restriction that the first character must be a letter or an underscore. There is no predefined limit on the number of characters that an identifier can have, but excessively long identifiers can negatively impact code readability and maintainability."
   ]
  },
  {
   "cell_type": "markdown",
   "id": "d327328c-6323-46ac-9116-562cb921a35b",
   "metadata": {},
   "source": [
    "#### Q-13 What are the benefits of using Python? "
   ]
  },
  {
   "cell_type": "markdown",
   "id": "1048f286-2cfd-4c93-9abb-4765571240e4",
   "metadata": {},
   "source": [
    "#### Ans- Python supports multiple types of programming, including:\n",
    "\n",
    "#### 1- Procedural Programming: Python allows you to write programs using a procedural programming paradigm, where you define a sequence of steps to be executed. You can use functions, loops, and conditionals to control the flow of the program.\n",
    "\n",
    "#### 2- Object-Oriented Programming (OOP): Python has robust support for object-oriented programming. You can define classes and create objects that encapsulate data and behavior. Python supports features such as inheritance, polymorphism, and encapsulation.\n",
    "\n",
    "#### 3- Functional Programming: Python provides support for functional programming concepts. You can use functions as first-class objects, create anonymous functions (lambda functions), and use higher-order functions like map, reduce, and filter.\n",
    "\n",
    "#### 4- Scripting: Python is widely used as a scripting language. You can write scripts to automate tasks, manipulate files and directories, and interact with other software systems.\n",
    "\n",
    "#### 5- Web Development: Python has frameworks like Django and Flask that facilitate web development. These frameworks provide tools and libraries for building web applications, handling HTTP requests, managing databases, and more.\n",
    "\n",
    "#### 6- Data Analysis and Scientific Computing: Python has become popular in the field of data analysis and scientific computing. Libraries like NumPy, Pandas, and SciPy provide powerful tools for numerical computations, data manipulation, and scientific algorithms.\n",
    "\n",
    "#### 7- Machine Learning and Artificial Intelligence: Python has gained significant traction in the field of machine learning and AI. Libraries such as TensorFlow, PyTorch, and scikit-learn offer extensive functionality for developing machine learning models and implementing AI algorithms."
   ]
  },
  {
   "cell_type": "markdown",
   "id": "1885c82f-58ad-402a-b5fa-f3d92100c747",
   "metadata": {},
   "source": [
    "#### Q-14 How is memory managed in Python?"
   ]
  },
  {
   "cell_type": "markdown",
   "id": "5181034e-985f-43b7-8d26-20c6c6e2ce2c",
   "metadata": {
    "tags": []
   },
   "source": [
    "#### Ans-Memory management in Python is primarily handled through a combination of automatic memory allocation and garbage collection. Python provides built-in mechanisms to handle memory efficiently and transparently for the programmer. Here are the key aspects of memory management in Python:\n",
    "\n",
    "#### 1- Automatic Memory Allocation:\n",
    "#### Python uses an automatic memory allocation mechanism to allocate memory for objects dynamically. Whenever an object is created, Python's memory manager (also known as the \"Python memory allocator\") automatically assigns memory for the object. This allows developers to focus on writing code without worrying about manual memory allocation and deallocation.\n",
    "\n",
    "#### 2-Reference Counting:\n",
    "#### Python uses reference counting as the primary mechanism for memory management. Each object in Python has a reference count associated with it, which keeps track of the number of references pointing to the object. When an object's reference count drops to zero, meaning there are no more references to the object, Python's garbage collector can reclaim the memory occupied by the object.\n",
    "\n",
    "#### 3-Garbage Collection:\n",
    "#### Python also employs a garbage collector to deallocate memory that is no longer in use. The garbage collector is responsible for identifying and reclaiming objects that are no longer reachable or have zero reference counts. It frees up memory occupied by these objects, making it available for future use.\n",
    "\n",
    "#### Python uses a generational garbage collector, known as the \"cycle detector,\" which uses a combination of reference counting and cyclic garbage detection algorithms. It periodically scans objects and their references to detect and collect cyclically referenced objects that may have reference counts greater than zero.\n",
    "\n",
    "#### 4-Memory Management Optimizations:\n",
    "#### Python's memory manager includes various optimizations to improve memory usage and performance. These optimizations include techniques such as object pooling, small object allocation optimizations, and memory reuse strategies.\n",
    "\n"
   ]
  },
  {
   "cell_type": "markdown",
   "id": "2b59017d-174f-42cf-91e4-7fac1fe4905e",
   "metadata": {},
   "source": [
    "#### Q-15 How to install Python on Windows and set path variables?"
   ]
  },
  {
   "cell_type": "markdown",
   "id": "763e978d-af15-46df-9630-fc2bd11535a9",
   "metadata": {},
   "source": [
    "#### Ans-\n",
    "#### Step 1 - Download Python Installer\n",
    "#### Step 2 - Run the Installer\n",
    "#### Step 3 - Install Python: Proceed with the installation by following the prompts. The installer will copy the necessary files and set up Python on your system.\n",
    "#### Step 4 - Verify the Installation: Once the installation is complete, open the command prompt (search for \"cmd\" in the Start menu) and type python --version to verify that Python is installed correctly. It should display the version number of Python.\n",
    "#### Step 5 - Set PATH Variables (If Not Done Automatically):If you didn't select the \"Add Python to PATH\" option during the installation or if it didn't set the PATH variables automatically, you can set them manually:\n",
    "\n",
    "* Open the Control Panel and go to \"System\" or \"System and Security.\"\n",
    "* Click on \"System\" or \"Advanced system settings\" (depending on your Windows version) and navigate to the \"Advanced\" tab.\n",
    "* Click on the \"Environment Variables\" button.\n",
    "* In the \"System Variables\" section, select the \"Path\" variable and click on \"Edit.\"\n",
    "* Add the following two entries to the PATH variable (make sure to adjust the Python version and installation path if necessary):\n",
    "- C:\\Python39\\\n",
    "- C:\\Python39\\Scripts\\\n"
   ]
  },
  {
   "cell_type": "markdown",
   "id": "509fc1d4-f166-47d8-a72f-e55e27fbcf9e",
   "metadata": {},
   "source": [
    "#### Q-16 Is indentation required in Python?"
   ]
  },
  {
   "cell_type": "markdown",
   "id": "62847045-425a-47fd-81fa-debe125ba8d4",
   "metadata": {},
   "source": [
    "#### Ans- Yes, indentation is required in Python. Unlike many other programming languages that use braces or keywords to delimit blocks of code, Python uses indentation to define the structure and hierarchy of the code.\n",
    "\n",
    "#### In Python, indentation is used to group statements together to form blocks of code. It is a fundamental part of the language's syntax and is used to indicate the beginning and end of loops, conditional statements, function definitions, and other code blocks.\n",
    "\n",
    "#### The standard convention in Python is to use four spaces for each level of indentation. However, we can also use a tab character or a different number of spaces as long as it is consistent throughout our code."
   ]
  },
  {
   "cell_type": "code",
   "execution_count": null,
   "id": "ca083f7d-335a-476a-a39f-2c85b33c33e9",
   "metadata": {},
   "outputs": [],
   "source": []
  }
 ],
 "metadata": {
  "kernelspec": {
   "display_name": "Python 3 (ipykernel)",
   "language": "python",
   "name": "python3"
  },
  "language_info": {
   "codemirror_mode": {
    "name": "ipython",
    "version": 3
   },
   "file_extension": ".py",
   "mimetype": "text/x-python",
   "name": "python",
   "nbconvert_exporter": "python",
   "pygments_lexer": "ipython3",
   "version": "3.10.8"
  }
 },
 "nbformat": 4,
 "nbformat_minor": 5
}
